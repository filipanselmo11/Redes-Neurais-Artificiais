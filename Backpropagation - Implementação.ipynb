{
 "cells": [
  {
   "cell_type": "code",
   "execution_count": 1,
   "metadata": {},
   "outputs": [],
   "source": [
    "import numpy as np\n",
    "import matplotlib.pyplot as plt\n",
    "from sklearn.metrics import mean_squared_error\n",
    "from ipywidgets import IntProgress\n",
    "from IPython.display import display"
   ]
  },
  {
   "cell_type": "code",
   "execution_count": 2,
   "metadata": {},
   "outputs": [],
   "source": [
    "class Rede_Neural():\n",
    "    \n",
    "    ##Inicializando os elementos da rede neural\n",
    "    def __init__(self, n_entradas = 2, n_camadas = 3, n_saidas = 1):\n",
    "        \n",
    "        ## Arquitetura da rede neural\n",
    "        self.n_entradas = n_entradas\n",
    "        self.n_camadas = n_camadas\n",
    "        self.n_saidas = n_saidas\n",
    "        \n",
    "        ## Inicialização das matrizes de pesos\n",
    "        ## Distribuição U(-1,1]\n",
    "        self.w_1 = np.random.uniform(low = -1, high = 1, size = (self.n_camadas, self.n_entradas))\n",
    "        self.w_2 = np.random.uniform(low = -1, high = 1, size = (self.n_saidas, self.n_camadas))\n",
    "        \n",
    "        ## Acréscimo do viés (bias)\n",
    "        ## Vies é aleatório com distribuição U(-0.5, 0.5)\n",
    "        self.bias_h = np.random.rand(self.n_camadas, 1) - 0.5\n",
    "        self.bias_o = np.random.rand(self.n_saidas, 1) - 0.5\n",
    "        \n",
    "        ## Função de ativação Sigmoide\n",
    "        self.sig = lambda x: 1/(1+np.exp(-x))\n",
    "        \n",
    "        ## Derivada da função sigmoide\n",
    "        self.dsig = lambda y: y*(1.0-y)\n",
    "        \n",
    "        ## Guardando o erro ao longo do treinamento\n",
    "        self.erros = []\n",
    "    \n",
    "    ## Algoritmo backpropragation de aprendizado supervisionado para redes neurais multi-layer perceptron\n",
    "    \n",
    "    def fit(self, x_treinamento, y_alvos, taxa_aprendizado = 0.1, epocas = 1000, tol = 0):\n",
    "        \n",
    "        ## Barra de progresso\n",
    "        barra = IntProgress(min = 0, max = epocas)\n",
    "        print(\"Progresso do treinamento: \")\n",
    "        display(barra)\n",
    "        \n",
    "        ##Treina enquanto há erro\n",
    "        haErro = True\n",
    "        i = 0\n",
    "        \n",
    "        while(i < epocas) and haErro:\n",
    "            for x_tr, y_alvo in zip(x_treinamento, y_alvos):\n",
    "                \n",
    "                ## Ajustando a dimensao da entrada\n",
    "                x = np.array(x_tr, ndmin=2).T\n",
    "                \n",
    "                ## Etapa forward\n",
    "                # Entrada --> Camada Oculta\n",
    "                saida_oculta = self.sig(np.add((np.dot(self.w_1, x)), self.bias_h))\n",
    "                # Camada oculta --> camada de saida\n",
    "                y_previsto = self.sig(np.add((np.dot(self.w_2, saida_oculta)), self.bias_o))\n",
    "                \n",
    "                ### Calculo do erro a cada época\n",
    "                erro = y_alvo - y_previsto\n",
    "                \n",
    "                ## Etapa backwards\n",
    "                \n",
    "                ### Calculo do erro na camada de saída\n",
    "                erro_oculto = np.dot(self.w_2.T, erro)\n",
    "                ## Ajuste dos pesos na camada de saída, no sentido oposto ao gradiente descendente\n",
    "                ## Observe o delta w\n",
    "                self.w_2 += taxa_aprendizado*(np.dot((erro*(self.dsig(y_previsto))), np.transpose(saida_oculta)))\n",
    "                ## Ajustando o vies da camada de saída\n",
    "                self.bias_o += taxa_aprendizado*(erro*(self.dsig(y_previsto)))\n",
    "                \n",
    "                ### Considera apenas uma camada oculta\n",
    "                ## Calculo do erro na camada oculta\n",
    "                self.w_1 += taxa_aprendizado*(np.dot((erro_oculto*(self.dsig(saida_oculta))), np.transpose(x)))\n",
    "                # Ajustando o vies na camada oculta\n",
    "                self.bias_h += taxa_aprendizado*(erro_oculto*(self.dsig(saida_oculta)))\n",
    "                \n",
    "            ## Erro medio quadratico a cada época\n",
    "            erroEpoca = mean_squared_error(y_alvo,y_previsto)\n",
    "            self.erros.append(erroEpoca)\n",
    "            \n",
    "            ## Atualiza a barra de progresso\n",
    "            barra.value += 1\n",
    "            \n",
    "            if (erroEpoca <= tol):\n",
    "                haErro = False\n",
    "            i += 1\n",
    "        \n",
    "        \n",
    "    ## Realiza a etapa forward da rede e aplica a funcao degrau com theta = 0.5 para determinar a classe\n",
    "    def predict(self, x_con):\n",
    "       \n",
    "        #Converter a entradas para a matriz 2d.\n",
    "        x = np.array(x_con, ndmin=2).T\n",
    "        \n",
    "        #Calculando a saída dos neurônios da camada oculta.\n",
    "        saida_oculta = self.sig(np.add((np.dot(self.w_1, x)), self.bias_h))\n",
    "        #Calculando a saída final da rede neural.\n",
    "        saida_final = self.sig(np.add((np.dot(self.w_2, saida_oculta)), self.bias_o))\n",
    "        \n",
    "        \n",
    "        return [1 if x >= 0.5 else 0 for x in saida_final]\n",
    "                \n",
    "                \n"
   ]
  },
  {
   "cell_type": "markdown",
   "metadata": {},
   "source": [
    "### Situação 1 - XOR bidimensional com 10 mil  épocas"
   ]
  },
  {
   "cell_type": "code",
   "execution_count": 11,
   "metadata": {},
   "outputs": [
    {
     "name": "stdout",
     "output_type": "stream",
     "text": [
      "Progresso do treinamento: \n"
     ]
    },
    {
     "data": {
      "application/vnd.jupyter.widget-view+json": {
       "model_id": "ddcc43c0e6d4428a9e6bee0f991198dc",
       "version_major": 2,
       "version_minor": 0
      },
      "text/plain": [
       "IntProgress(value=0)"
      ]
     },
     "metadata": {},
     "output_type": "display_data"
    }
   ],
   "source": [
    "## Para reproduzir os exemplos iguais aos que fiz, utilize a linha a seguir\n",
    "## Caso queira testar aletoriamente, basta removê-la\n",
    "np.random.seed(42)\n",
    "\n",
    "## Instancia da rede neural\n",
    "rn = Rede_Neural()\n",
    "\n",
    "### Problema XOR bidimensional\n",
    "# Atributos preditores\n",
    "X_train = np.array([[0,1], [1,0], [1,1], [0,0]])\n",
    "# Atributo alvo\n",
    "y_train = np.array([[1], [1], [0], [0]])\n",
    "\n",
    "## Treinamento da rede\n",
    "rn.fit(X_train, y_train, taxa_aprendizado = 0.4, epocas = 100)"
   ]
  },
  {
   "cell_type": "markdown",
   "metadata": {},
   "source": [
    "## Visualização do Aprendizado"
   ]
  },
  {
   "cell_type": "code",
   "execution_count": 12,
   "metadata": {},
   "outputs": [
    {
     "data": {
      "image/png": "[encoded data removed]",
      "text/plain": [
       "<Figure size 432x288 with 1 Axes>"
      ]
     },
     "metadata": {
      "needs_background": "light"
     },
     "output_type": "display_data"
    }
   ],
   "source": [
    "## Plotando o MSE a cada época\n",
    "plt.title(\"Aprendizado na Rede Neural MLP\\nMSE final: {0} \\nTotal de Épocas: {1} \".format(rn.erros[-1],len(rn.erros)))\n",
    "plt.plot(rn.erros, '-', linewidth=2)\n",
    "plt.ylabel(\"MSE\")\n",
    "plt.xlabel(\"Épocas\")\n",
    "plt.show()"
   ]
  },
  {
   "cell_type": "markdown",
   "metadata": {},
   "source": [
    "## Testando a rede neural para o problema"
   ]
  },
  {
   "cell_type": "code",
   "execution_count": 13,
   "metadata": {},
   "outputs": [
    {
     "name": "stdout",
     "output_type": "stream",
     "text": [
      "Entrada:  [0 1] Saída prevista:  [0] Saída desejada:  [1]\n",
      "Entrada:  [1 0] Saída prevista:  [1] Saída desejada:  [1]\n",
      "Entrada:  [1 1] Saída prevista:  [0] Saída desejada:  [0]\n",
      "Entrada:  [0 0] Saída prevista:  [0] Saída desejada:  [0]\n"
     ]
    }
   ],
   "source": [
    "# Efetuando previsões com a rede neural\n",
    "for(x, y_true) in zip(X_train, y_train):\n",
    "    print(\"Entrada: \", x, \"Saída prevista: \", rn.predict(x), \"Saída desejada: \", y_true)"
   ]
  },
  {
   "cell_type": "markdown",
   "metadata": {},
   "source": [
    "### Situação 2 - XOR bidimensional e tolerância ao erro"
   ]
  },
  {
   "cell_type": "code",
   "execution_count": 15,
   "metadata": {},
   "outputs": [
    {
     "name": "stdout",
     "output_type": "stream",
     "text": [
      "Progresso do treinamento: \n"
     ]
    },
    {
     "data": {
      "application/vnd.jupyter.widget-view+json": {
       "model_id": "8f84e322b39544a9b64cf10fe7a2506b",
       "version_major": 2,
       "version_minor": 0
      },
      "text/plain": [
       "IntProgress(value=0)"
      ]
     },
     "metadata": {},
     "output_type": "display_data"
    }
   ],
   "source": [
    "## Instancia uma nova rede neural, com novos pesos\n",
    "np.random.seed(12)\n",
    "rn = Rede_Neural()\n",
    "\n",
    "## Problema XOR dimensional\n",
    "\n",
    "# Atributos preditores\n",
    "X_train = np.array([[1,1],[1,0],[0,1],[0,0]])\n",
    "\n",
    "# Atributo alvo\n",
    "y_train = np.array([[0], [1], [1], [0]])\n",
    "\n",
    "## Treinamento da rede\n",
    "rn.fit(X_train, y_train, taxa_aprendizado = 0.4, epocas = 100, tol = 10**-3)"
   ]
  },
  {
   "cell_type": "code",
   "execution_count": 16,
   "metadata": {},
   "outputs": [
    {
     "data": {
      "image/png": "[encoded data removed]",
      "text/plain": [
       "<Figure size 432x288 with 1 Axes>"
      ]
     },
     "metadata": {
      "needs_background": "light"
     },
     "output_type": "display_data"
    }
   ],
   "source": [
    "## Plotando o MSE a cada época\n",
    "plt.title(\"Aprendizado na Rede Neural MLP\\nMSE final: {0}\\nTotal de Épocas: {1} \".format(rn.erros[-1],len(rn.erros)))\n",
    "plt.plot(rn.erros, '-',linewidth=2)\n",
    "plt.ylabel(\"MSE\")\n",
    "plt.xlabel(\"Épocas\")\n",
    "plt.show()"
   ]
  },
  {
   "cell_type": "code",
   "execution_count": 17,
   "metadata": {},
   "outputs": [
    {
     "name": "stdout",
     "output_type": "stream",
     "text": [
      "Entrada:  [1 1] Saída prevista:  [0] Saída desejada : [0]\n",
      "Entrada:  [1 0] Saída prevista:  [0] Saída desejada : [1]\n",
      "Entrada:  [0 1] Saída prevista:  [1] Saída desejada : [1]\n",
      "Entrada:  [0 0] Saída prevista:  [0] Saída desejada : [0]\n"
     ]
    }
   ],
   "source": [
    "# Efetuando previsões com a rede neural\n",
    "for (x,y_true) in zip(X_train,y_train):\n",
    "    print(\"Entrada: \",x, \"Saída prevista: \",rn.predict(x), \"Saída desejada :\",y_true)"
   ]
  },
  {
   "cell_type": "markdown",
   "metadata": {},
   "source": [
    "## Situação 3 - XOR bidimensional com arquitetura diferente"
   ]
  },
  {
   "cell_type": "code",
   "execution_count": 19,
   "metadata": {},
   "outputs": [
    {
     "name": "stdout",
     "output_type": "stream",
     "text": [
      "Progresso do treinamento: \n"
     ]
    },
    {
     "data": {
      "application/vnd.jupyter.widget-view+json": {
       "model_id": "697e98e08a7b4fc3b46270dfb79f5aec",
       "version_major": 2,
       "version_minor": 0
      },
      "text/plain": [
       "IntProgress(value=0)"
      ]
     },
     "metadata": {},
     "output_type": "display_data"
    }
   ],
   "source": [
    "np.random.seed(42)\n",
    "\n",
    "## Instancia a rede neural\n",
    "rn = Rede_Neural(n_entradas = 2, n_camadas = 100, n_saidas=1)\n",
    "\n",
    "### Problema XOR dimensional\n",
    "# Atributos preditores\n",
    "X_train = np.array([[1,1],[1,0],[0,1],[0,0]])\n",
    "# Atributo alvo\n",
    "y_train = np.array([[0],[1],[1],[0]])\n",
    "\n",
    "## Treinamento da rede\n",
    "rn.fit(X_train, y_train,taxa_aprendizado = 0.4, epocas = 100, tol = 10**(-2))"
   ]
  },
  {
   "cell_type": "code",
   "execution_count": 20,
   "metadata": {},
   "outputs": [],
   "source": [
    "## Provando que há 100 unidades neuronais na 1a. camada oculta\n",
    "assert len(rn.w_1) == 100"
   ]
  },
  {
   "cell_type": "code",
   "execution_count": 21,
   "metadata": {},
   "outputs": [
    {
     "data": {
      "image/png": "[encoded data removed]",
      "text/plain": [
       "<Figure size 432x288 with 1 Axes>"
      ]
     },
     "metadata": {
      "needs_background": "light"
     },
     "output_type": "display_data"
    }
   ],
   "source": [
    "## Plotando o MSE a cada época\n",
    "plt.title(\"Aprendizado na Rede Neural MLP\\nMSE final: {0}\\nTotal de Épocas: {1} \".format(rn.erros[-1],len(rn.erros)))\n",
    "plt.plot(rn.erros, '-',linewidth=2)\n",
    "plt.ylabel(\"MSE\")\n",
    "plt.xlabel(\"Épocas\")\n",
    "plt.show()"
   ]
  },
  {
   "cell_type": "code",
   "execution_count": 22,
   "metadata": {},
   "outputs": [
    {
     "name": "stdout",
     "output_type": "stream",
     "text": [
      "Entrada:  [1 1] Saída prevista:  [0] Saída desejada : [0]\n",
      "Entrada:  [1 0] Saída prevista:  [1] Saída desejada : [1]\n",
      "Entrada:  [0 1] Saída prevista:  [1] Saída desejada : [1]\n",
      "Entrada:  [0 0] Saída prevista:  [0] Saída desejada : [0]\n"
     ]
    }
   ],
   "source": [
    "# Efetuando previsões com a rede neural\n",
    "for (x,y_true) in zip(X_train,y_train):\n",
    "    print(\"Entrada: \",x, \"Saída prevista: \",rn.predict(x), \"Saída desejada :\",y_true)"
   ]
  },
  {
   "cell_type": "markdown",
   "metadata": {},
   "source": [
    "## Situação 4 - Problema AND bidimensional, linearmente separável"
   ]
  },
  {
   "cell_type": "code",
   "execution_count": 24,
   "metadata": {},
   "outputs": [
    {
     "name": "stdout",
     "output_type": "stream",
     "text": [
      "Progresso do treinamento: \n"
     ]
    },
    {
     "data": {
      "application/vnd.jupyter.widget-view+json": {
       "model_id": "03c19537107e4a2ea669eaac3752d429",
       "version_major": 2,
       "version_minor": 0
      },
      "text/plain": [
       "IntProgress(value=0)"
      ]
     },
     "metadata": {},
     "output_type": "display_data"
    }
   ],
   "source": [
    "np.random.seed(42)\n",
    "\n",
    "## Instancia a rede neural\n",
    "rn = Rede_Neural(n_entradas = 2, n_camadas = 3, n_saidas=1)\n",
    "\n",
    "### Problema XOR dimensional\n",
    "# Atributos preditores\n",
    "X_train = np.array([[1,1],[1,0],[0,1],[0,0]])\n",
    "# Atributo alvo\n",
    "y_train = np.array([[1],[0],[0],[0]])\n",
    "\n",
    "## Treinamento da rede\n",
    "rn.fit(X_train, y_train,taxa_aprendizado = 0.1, epocas = 100)"
   ]
  },
  {
   "cell_type": "code",
   "execution_count": 25,
   "metadata": {},
   "outputs": [
    {
     "data": {
      "image/png": "[encoded data removed]",
      "text/plain": [
       "<Figure size 432x288 with 1 Axes>"
      ]
     },
     "metadata": {
      "needs_background": "light"
     },
     "output_type": "display_data"
    }
   ],
   "source": [
    "## Plotando o MSE a cada época\n",
    "plt.title(\"Aprendizado na Rede Neural MLP\\nMSE final: {0}\\nTotal de Épocas: {1} \".format(rn.erros[-1],len(rn.erros)))\n",
    "plt.plot(rn.erros, '-',linewidth=2)\n",
    "plt.ylabel(\"MSE\")\n",
    "plt.xlabel(\"Épocas\")\n",
    "plt.show()"
   ]
  },
  {
   "cell_type": "code",
   "execution_count": 26,
   "metadata": {},
   "outputs": [
    {
     "name": "stdout",
     "output_type": "stream",
     "text": [
      "Entrada:  [1 1] Saída prevista:  [0] Saída desejada : [1]\n",
      "Entrada:  [1 0] Saída prevista:  [0] Saída desejada : [0]\n",
      "Entrada:  [0 1] Saída prevista:  [0] Saída desejada : [0]\n",
      "Entrada:  [0 0] Saída prevista:  [0] Saída desejada : [0]\n"
     ]
    }
   ],
   "source": [
    "# Efetuando previsões com a rede neural\n",
    "for (x,y_true) in zip(X_train,y_train):\n",
    "    print(\"Entrada: \",x, \"Saída prevista: \",rn.predict(x), \"Saída desejada :\",y_true)"
   ]
  },
  {
   "cell_type": "code",
   "execution_count": null,
   "metadata": {},
   "outputs": [],
   "source": []
  }
 ],
 "metadata": {
  "kernelspec": {
   "display_name": "Python 3",
   "language": "python",
   "name": "python3"
  },
  "language_info": {
   "codemirror_mode": {
    "name": "ipython",
    "version": 3
   },
   "file_extension": ".py",
   "mimetype": "text/x-python",
   "name": "python",
   "nbconvert_exporter": "python",
   "pygments_lexer": "ipython3",
   "version": "3.8.3"
  }
 },
 "nbformat": 4,
 "nbformat_minor": 4
}
