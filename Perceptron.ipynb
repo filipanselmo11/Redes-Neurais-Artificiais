{
 "cells": [
  {
   "cell_type": "code",
   "execution_count": 2,
   "metadata": {},
   "outputs": [],
   "source": [
    "import random, copy\n",
    "import numpy as np"
   ]
  },
  {
   "cell_type": "code",
   "execution_count": 3,
   "metadata": {},
   "outputs": [],
   "source": [
    "class Perceptron:\n",
    "    \n",
    "    def __init__(self, amostras, saidas, taixa_aprendizado=0.1, epocas=1000, limiar=-1):\n",
    "        self.amostras = amostras\n",
    "        self.saidas = saidas\n",
    "        self.taxa_aprendizado = taxa_aprendizado\n",
    "        self.epocas = epocas\n",
    "        self.limiar = limiar\n",
    "        self.num_amostras = len(amostras)\n",
    "        self.num_amostra = len(amostras[0])\n",
    "        self.pesos = []\n",
    "    \n",
    "    def treinar(self):\n",
    "        for amostra in self.amostras:\n",
    "            amostras.insert(0, -1)\n",
    "        for i in range(self.num_amostra):\n",
    "            self.pesos.append(random.random())\n",
    "        self.pesos.insert(0, self.limiar)\n",
    "        \n",
    "        num_epocas = 0\n",
    "        \n",
    "        while(True):\n",
    "            erro = False\n",
    "            for i in range(self.num_amostras):\n",
    "                u = 0\n",
    "                for j in range(self.num_amostra + 1):\n",
    "                    u += self.pesos[j] * self.amostras[i][j]\n",
    "                y = self.sinal(u)\n",
    "                if(y != self.saidas[i]):\n",
    "                    erro_aux = self.saidas[i] - y\n",
    "                    for j in range(self.num_amostra + 1):\n",
    "                        self.pesos[j] = self.pesos[j] + self.taxa_aprendizado * erro_aux * self.amostras[i][j]\n",
    "                    erro = True\n",
    "            num_epocas += 1\n",
    "            if num_epocas > self.epocas or not erro:\n",
    "                break\n",
    "    def testar(self, amostra, classe1, classe2):\n",
    "        amostra.insert(0, -1)\n",
    "        u = 0\n",
    "        for i in range(self.num_amostra + 1):\n",
    "            u += self.pesos[i] * amostra[i]\n",
    "        y = self.sinal(u)\n",
    "        if(y == -1):\n",
    "            print('A amostra pertence a classe %s' % classe1)\n",
    "        else:\n",
    "            print('A amostra pertence a classe %s' % classe2)\n",
    "            \n",
    "    def degrau(self, u):\n",
    "        return 1 if u >= 0 else -1\n",
    "    \n",
    "    def sinal(self, u):\n",
    "        return 1 if u >= 0 else -1"
   ]
  },
  {
   "cell_type": "code",
   "execution_count": 5,
   "metadata": {},
   "outputs": [
    {
     "ename": "IndentationError",
     "evalue": "unindent does not match any outer indentation level (<tokenize>, line 17)",
     "output_type": "error",
     "traceback": [
      "\u001b[0;36m  File \u001b[0;32m\"<tokenize>\"\u001b[0;36m, line \u001b[0;32m17\u001b[0m\n\u001b[0;31m    amostras2 = [ [0.72, 0.82], [0.91, -0.69],\u001b[0m\n\u001b[0m    ^\u001b[0m\n\u001b[0;31mIndentationError\u001b[0m\u001b[0;31m:\u001b[0m unindent does not match any outer indentation level\n"
     ]
    }
   ],
   "source": [
    "if __name__ == \"__main__\" :\n",
    "    print('\\nA ou B?\\n')\n",
    "    \n",
    "    amostras = [[0.1, 0.4, 0.7], [0.3, 0.7, 0.2], [0.6, 0.9, 0.8], [0.5, 0.7, 0.1]]\n",
    "    saidas = [1, -1, -1, 1]\n",
    "    \n",
    "    testes = copy.deepcopy(amostras)\n",
    "    \n",
    "    rede = Perceptron(amostras=amostras, saidas=saidas, taxa_aprendizado=0.1, epocas=1000)\n",
    "    rede.treinar()\n",
    "    \n",
    "    for teste in testes:\n",
    "        rede.testar(teste, 'A', 'B')\n",
    "    \n",
    "    print('\\nBlue ou Red?\\n')\n",
    "    \n",
    "   amostras2 = [ [0.72, 0.82], [0.91, -0.69],[0.46, 0.80],   [0.03, 0.93],[0.12, 0.25],   [0.96, 0.47],[0.8, -0.75],   [0.46, 0.98],[0.66, 0.24],   [0.72, -0.15],[0.35, 0.01],   [-0.16, 0.84],\n",
    "\t\t\t\t[-0.04, 0.68],  [-0.11, 0.1],\n",
    "\t\t\t\t[0.31, -0.96],   [0.0, -0.26],\n",
    "\t\t\t\t[-0.43, -0.65],  [0.57, -0.97],\n",
    "\t\t\t\t[-0.47, -0.03],  [-0.72, -0.64],\n",
    "\t\t\t\t[-0.57, 0.15],   [-0.25, -0.43],\n",
    "\t\t\t\t[0.47, -0.88],   [-0.12, -0.9],\n",
    "\t\t\t\t[-0.58, 0.62],   [-0.48, 0.05],\n",
    "\t\t\t\t[-0.79, -0.92],  [-0.42, -0.09],\n",
    "\t\t\t\t[-0.76, 0.65],   [-0.77, -0.76]]\n",
    "\n",
    "saidas2 = [-1,-1,-1,-1,-1,-1, -1,-1,\n",
    "\t\t\t\t-1,-1,-1,-1,-1,1,1,1,1,\n",
    "\t\t\t\t1,1,1,1,1,1,1,1,1,1,1,1,1]\n",
    "\n",
    "testes2 = copy.deepcopy(amostras2)\n",
    "\n",
    "rede2 = Perceptron(amostras=amostras2, saidas=saidas2, taxa_aprendizado=0.1, epocas=1000)\n",
    "\n",
    "rede2.treinar()\n",
    "\n",
    "for teste in testes2:\n",
    "    rede2.testar(teste, 'Red', 'Blue')"
   ]
  },
  {
   "cell_type": "code",
   "execution_count": null,
   "metadata": {},
   "outputs": [],
   "source": []
  }
 ],
 "metadata": {
  "kernelspec": {
   "display_name": "Python 3",
   "language": "python",
   "name": "python3"
  },
  "language_info": {
   "codemirror_mode": {
    "name": "ipython",
    "version": 3
   },
   "file_extension": ".py",
   "mimetype": "text/x-python",
   "name": "python",
   "nbconvert_exporter": "python",
   "pygments_lexer": "ipython3",
   "version": "3.7.3"
  }
 },
 "nbformat": 4,
 "nbformat_minor": 2
}
