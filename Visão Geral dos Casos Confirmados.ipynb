{
 "cells": [
  {
   "cell_type": "markdown",
   "metadata": {},
   "source": [
    "## Visão Geral dos Casos Confirmados"
   ]
  },
  {
   "cell_type": "markdown",
   "metadata": {},
   "source": [
    "## Importando bibliotecas e a Base de Dados '05/08/2020'"
   ]
  },
  {
   "cell_type": "code",
   "execution_count": 1,
   "metadata": {},
   "outputs": [],
   "source": [
    "import pandas as pd\n",
    "import numpy as np"
   ]
  },
  {
   "cell_type": "code",
   "execution_count": 2,
   "metadata": {},
   "outputs": [],
   "source": [
    "df = pd.read_csv('Manaus.csv', sep=';', low_memory=False)"
   ]
  },
  {
   "cell_type": "markdown",
   "metadata": {},
   "source": [
    "## Realizando o filtro na coluna '_classificacao' onde seja Confirmado"
   ]
  },
  {
   "cell_type": "code",
   "execution_count": 3,
   "metadata": {},
   "outputs": [],
   "source": [
    "df = df[df['_classificacao'].isin(['Confirmado'])]"
   ]
  },
  {
   "cell_type": "markdown",
   "metadata": {},
   "source": [
    "## 1. Quantos atributos descrevem cada exemplo? Quais são eles?"
   ]
  },
  {
   "cell_type": "code",
   "execution_count": 4,
   "metadata": {},
   "outputs": [
    {
     "name": "stdout",
     "output_type": "stream",
     "text": [
      "Total de  36  atributos que descrevem cada exemplo, sendo eles:\n",
      "_idade\n",
      "_faixa etária\n",
      "_sexo\n",
      "_bairro\n",
      "_classificacao\n",
      "_comorb_renal\n",
      "_comorb_diabetes\n",
      "_comorb_imuno\n",
      "_comorb_cardio\n",
      "_conclusao\n",
      "_dt_notificacao\n",
      "_taxa\n",
      "_dt_evolucao\n",
      "_raca\n",
      "_dt_sintomas\n",
      "_criterio\n",
      "_tipo_teste\n",
      "_sintoma_garganta\n",
      "_sintoma_dispneia\n",
      "_sintoma_febre\n",
      "_sintoma_tosse\n",
      "_sintoma_outros\n",
      "_etnia\n",
      "_profiss_saude\n",
      "_srag\n",
      "_se_notificacao\n",
      "_distrito\n",
      "_bairro_mapa\n",
      "_comorb_respiratoria\n",
      "_comorb_cromossomica\n",
      "_comorb_hepatica\n",
      "_comorb_neurologica\n",
      "_comorb_hemato\n",
      "_comorb_obessidade\n",
      "_origem\n",
      "_evolução\n"
     ]
    }
   ],
   "source": [
    "print(\"Total de \",df.shape[1],\" atributos que descrevem cada exemplo, sendo eles:\")\n",
    "df_columns = df.columns.to_numpy()\n",
    "for i in df_columns:\n",
    "    print(i)"
   ]
  },
  {
   "cell_type": "markdown",
   "metadata": {},
   "source": [
    "## 2. Quantos casos confirmados há em Manaus, cumulativamente?"
   ]
  },
  {
   "cell_type": "code",
   "execution_count": 5,
   "metadata": {},
   "outputs": [
    {
     "name": "stdout",
     "output_type": "stream",
     "text": [
      "Total de 36671 casos confirmados em Manaus.\n"
     ]
    }
   ],
   "source": [
    "print(\"Total de {} casos confirmados em Manaus.\".format(df.shape[0]))"
   ]
  },
  {
   "cell_type": "markdown",
   "metadata": {},
   "source": [
    "## 3. A qual período de tempo a base de dados se refere, isto é, qual o registro mais antigo e qual o mais recente? Leve em conta a data de notificação."
   ]
  },
  {
   "cell_type": "code",
   "execution_count": 6,
   "metadata": {},
   "outputs": [
    {
     "name": "stdout",
     "output_type": "stream",
     "text": [
      "O registro mais antigo eh de 30/01/20 e o mais recente de 05/08/20.\n"
     ]
    }
   ],
   "source": [
    "df['_dt_notificacao'] = pd.to_datetime(df['_dt_notificacao'], format=\"%d/%m/%Y\")\n",
    "array_dates = np.sort(df['_dt_notificacao'].dropna().dt.strftime(\"%m/%d/%Y\"))\n",
    "first_date = pd.to_datetime(array_dates[0]).strftime(\"%d/%m/%y\")\n",
    "last_date = pd.to_datetime(array_dates[-1]).strftime(\"%d/%m/%y\")\n",
    "print(\"O registro mais antigo eh de {} e o mais recente de {}.\".format(first_date, last_date))"
   ]
  },
  {
   "cell_type": "markdown",
   "metadata": {},
   "source": [
    "## Para fins da análise considerada no escopo deste projeto, vamos excluir todos os atributos relativos às comorbidades, sintomas, etnia, profissão, outras datas que não a de notificação, origem e outros que não estiverem envolvidos no contexto do trabalho solicitado. Estes atributos serão considerados irrelevantes para fins de simplificação. Exclua todas as linhas em que houver dados faltantes para os atributos remanescentes. Visando efetuar uma análise exploratória dos dados, respondam, pelo menos, às seguintes questões:"
   ]
  },
  {
   "cell_type": "code",
   "execution_count": 7,
   "metadata": {},
   "outputs": [],
   "source": [
    "df = df.drop(['_comorb_renal', '_comorb_diabetes', '_comorb_imuno', '_comorb_cardio', '_comorb_respiratoria', '_comorb_cromossomica', '_comorb_hepatica', '_comorb_neurologica', '_comorb_hemato', '_comorb_obessidade', '_sintoma_garganta', '_sintoma_dispneia', '_sintoma_febre', '_sintoma_tosse', '_sintoma_outros', '_etnia', '_profiss_saude', '_dt_evolucao', '_dt_sintomas', '_raca', '_srag', '_origem', '_evolução', '_criterio'], axis=1).dropna()"
   ]
  },
  {
   "cell_type": "markdown",
   "metadata": {},
   "source": [
    "## 1. Quantos exemplos e atributos há na base de dados após a limpeza e organização ?"
   ]
  },
  {
   "cell_type": "code",
   "execution_count": 8,
   "metadata": {},
   "outputs": [
    {
     "name": "stdout",
     "output_type": "stream",
     "text": [
      "Total de Atributos:  12\n",
      "Total de Exemplos:  6145\n"
     ]
    }
   ],
   "source": [
    "print(\"Total de Atributos: \", df.shape[1])\n",
    "print(\"Total de Exemplos: \", df.shape[0])"
   ]
  },
  {
   "cell_type": "markdown",
   "metadata": {},
   "source": [
    "## 2. Qual a porcentagem de indivíduos recuperados em relação ao todo?"
   ]
  },
  {
   "cell_type": "code",
   "execution_count": 9,
   "metadata": {},
   "outputs": [
    {
     "name": "stdout",
     "output_type": "stream",
     "text": [
      "Total de casos: 6145\n",
      "Total recuperado: 6132 = %99.79\n"
     ]
    }
   ],
   "source": [
    "df_cases_recovered = df[df['_conclusao'].isin(['Recuperado'])]\n",
    "\n",
    "amount_recovered = int(df_cases_recovered.shape[0])\n",
    "amount_total = int(df.shape[0])\n",
    "\n",
    "print(\"Total de casos: {}\\nTotal recuperado: {} = %{:.2f}\".format(amount_total, amount_recovered, ((amount_recovered*100)/amount_total)))"
   ]
  },
  {
   "cell_type": "markdown",
   "metadata": {},
   "source": [
    "## 3. Os casos acometeram mais indivíduos do sexo masculino ou feminino?"
   ]
  },
  {
   "cell_type": "code",
   "execution_count": 10,
   "metadata": {},
   "outputs": [
    {
     "name": "stdout",
     "output_type": "stream",
     "text": [
      "Feminino, com 3463 casos.\n"
     ]
    }
   ],
   "source": [
    "amount_male = int(df[df['_sexo'].isin(['M'])].shape[0])\n",
    "amount_female = int(df[df['_sexo'].isin(['F'])].shape[0])\n",
    "\n",
    "if (amount_male > amount_female):\n",
    "    print(\"Masculino, com {} casos.\".format(amount_male))\n",
    "else:\n",
    "    print(\"Feminino, com {} casos.\".format(amount_female))"
   ]
  },
  {
   "cell_type": "markdown",
   "metadata": {},
   "source": [
    "## 4. Qual a média e desvio padrão de idade dos indivíduos que contraíram COVID-19? Qual o indivíduo mais jovem e o mais idoso a contraírem tal enfermidade?"
   ]
  },
  {
   "cell_type": "code",
   "execution_count": 11,
   "metadata": {},
   "outputs": [
    {
     "name": "stdout",
     "output_type": "stream",
     "text": [
      "Média de idade: 41.49\n",
      "Desvio Padrão: 14.11\n",
      "O mais jovem tem 0 anos e o mais idoso tem 99 anos\n"
     ]
    }
   ],
   "source": [
    "df['_idade'] = df['_idade'].to_frame().query('_idade < 120')['_idade']\n",
    "\n",
    "df_average_age = df['_idade'].mean()\n",
    "df_standard_deviation = df['_idade'].std() \n",
    "\n",
    "df_the_oldest = int(df['_idade'].max())\n",
    "df_the_youngest = int(df['_idade'].min())\n",
    "\n",
    "print('Média de idade: {:.2f}\\nDesvio Padrão: {:.2f}\\nO mais jovem tem {} anos e o mais idoso tem {} anos'.format(df_average_age,df_standard_deviation,df_the_youngest,df_the_oldest))"
   ]
  },
  {
   "cell_type": "markdown",
   "metadata": {},
   "source": [
    "## 5. Qual o bairro com maior incidência de casos?"
   ]
  },
  {
   "cell_type": "code",
   "execution_count": 12,
   "metadata": {},
   "outputs": [
    {
     "name": "stdout",
     "output_type": "stream",
     "text": [
      "O bairro com maior incidência de casos foi CIDADE NOVA com 296 casos.\n"
     ]
    }
   ],
   "source": [
    "neighborhood_highest_incidence = df.groupby(by ='_bairro').size().idxmax()\n",
    "number_of_cases = df.groupby(by ='_bairro').size().max()\n",
    "\n",
    "print ('O bairro com maior incidência de casos foi {} com {} casos.'.format(neighborhood_highest_incidence,number_of_cases))"
   ]
  },
  {
   "cell_type": "markdown",
   "metadata": {},
   "source": [
    "## 6. Quais os três bairros com maior incidência de casos recuperados?"
   ]
  },
  {
   "cell_type": "code",
   "execution_count": 13,
   "metadata": {},
   "outputs": [
    {
     "name": "stdout",
     "output_type": "stream",
     "text": [
      "Os três bairros com maior incidência de casos recuperados foram CIDADE NOVA com 296, FLORES com 262 e TARUMA com 225 casos recuperados.\n"
     ]
    }
   ],
   "source": [
    "neighborhoods_highest_recovered_incidence = df[df['_conclusao'].isin(['Recuperado'])].groupby(by ='_bairro').size().sort_values(ascending=False).head(3)\n",
    "\n",
    "print ('Os três bairros com maior incidência de casos recuperados foram {} com {}, {} com {} e {} com {} casos recuperados.'.format(neighborhoods_highest_recovered_incidence.index[0],neighborhoods_highest_recovered_incidence[0], neighborhoods_highest_recovered_incidence.index[1], neighborhoods_highest_recovered_incidence[1], neighborhoods_highest_recovered_incidence.index[2], neighborhoods_highest_recovered_incidence[2]))"
   ]
  },
  {
   "cell_type": "markdown",
   "metadata": {},
   "source": [
    "## 7. Quais os tipos de testes efetuados, segundo os dados? Indique os dados de maneira quantitativa e percentual"
   ]
  },
  {
   "cell_type": "code",
   "execution_count": 14,
   "metadata": {},
   "outputs": [
    {
     "name": "stdout",
     "output_type": "stream",
     "text": [
      "Segundo os dados, os testes efetuados foram:\n",
      "ECLIA IgG\n",
      "ELISA IgM\n",
      "RT-PCR\n",
      "TESTE RÁPIDO - ANTICORPO\n",
      "TESTE RÁPIDO - ANTÍGENO\n",
      "_tipo_teste\n",
      "ECLIA IgG                      4\n",
      "ELISA IgM                      3\n",
      "RT-PCR                      1486\n",
      "TESTE RÁPIDO - ANTICORPO    3553\n",
      "TESTE RÁPIDO - ANTÍGENO     1099\n",
      "dtype: int64\n",
      "6145\n"
     ]
    }
   ],
   "source": [
    "performed_tests = df.groupby(by ='_tipo_teste').size()\n",
    "performed_tests_qtde = df.groupby(by='_tipo_teste').size().sum()\n",
    "print(\"Segue a lista de tipos de teste, quantidade e porcentagem\\n\")\n",
    "for i in range(len(performed_tests)-1):\n",
    "    print(performed_tests.index[i],\",\", performed_tests[i],\",\", round((performed_tests[i]/performed_tests_qtde)*100,2))"
   ]
  },
  {
   "cell_type": "markdown",
   "metadata": {},
   "source": [
    "## 8. Qual taxa de letalidade pode ser calculada a partir do conjunto de dados? Para calcular esta taxa, considere a fração do total de óbitos pelo total de casos"
   ]
  },
  {
   "cell_type": "code",
   "execution_count": 16,
   "metadata": {},
   "outputs": [
    {
     "name": "stdout",
     "output_type": "stream",
     "text": [
      "Considerando o nº total de casos igual a 12586. A taxa de letalidade  equivale a 16.17%. \n"
     ]
    }
   ],
   "source": [
    "#consideramos o dataframe inicial para uma nova filtragem\n",
    "df_ = pd.read_csv('Manaus.csv', sep=';', low_memory=False)\n",
    "df_cases_confirmed_ = df_[df_['_classificacao'].isin(['Confirmado'])]\n",
    "#restringimos o número de atributos utilizados,retirando o \"_tipo_teste\"\n",
    "df_cases_confirmed_with_or_without_tests = df_cases_confirmed_.drop(['_comorb_renal', '_comorb_diabetes', '_comorb_imuno', '_comorb_cardio', '_comorb_respiratoria', '_comorb_cromossomica', '_comorb_hepatica', '_comorb_neurologica', '_comorb_hemato', '_comorb_obessidade', '_sintoma_garganta', '_sintoma_dispneia', '_sintoma_febre', '_sintoma_tosse', '_sintoma_outros', '_etnia', '_profiss_saude', '_dt_evolucao', '_dt_sintomas', '_raca', '_srag', '_origem', '_evolução', '_criterio','_tipo_teste'], axis=1).dropna()\n",
    "#análises\n",
    "amount_deceased = int(df_cases_confirmed_with_or_without_tests[df_cases_confirmed_with_or_without_tests['_conclusao'].isin(['Óbito'])].shape[0])\n",
    "amount_total = int(df_cases_confirmed_with_or_without_tests.shape[0])\n",
    "print(\"Considerando o nº total de casos igual a {}. A taxa de letalidade  equivale a {:.2f}%. \".format(amount_total, ((amount_deceased*100)/amount_total)) )"
   ]
  },
  {
   "cell_type": "markdown",
   "metadata": {},
   "source": [
    "## 9. Qual o tipo de correlação, mediante coeficiente de correlação de Pearson, entre a idade e o número de casos? Para responder a esta pergunte, agrupe o número de casos por idade e efetue o cálculo de tal coeficiente. Indique, a partir do resultado, a natureza desta correlação, se é positiva ou negativa, e qual sua intensidade."
   ]
  },
  {
   "cell_type": "code",
   "execution_count": 17,
   "metadata": {},
   "outputs": [
    {
     "name": "stdout",
     "output_type": "stream",
     "text": [
      "O valor da correlação de Pearson foi igual -0.223 , indicando assim, que a natureza dessa correlação é negativa e de baixa intensidade.\n"
     ]
    }
   ],
   "source": [
    "age = df.groupby(by ='_idade', as_index = False).mean() \n",
    "number_of_cases_by_age = df.groupby(by ='_idade').size() \n",
    "\n",
    "ages=[]\n",
    "cases=[]\n",
    "\n",
    "for i in age['_idade']: # .isin(['Confirmado'])\n",
    "    ages.append(i)\n",
    "\n",
    "for i in number_of_cases_by_age: \n",
    "    cases.append(i)\n",
    "\n",
    "# calculo Pearson's correlation\n",
    "from scipy.stats import pearsonr\n",
    "corr, _ = pearsonr(ages,cases)\n",
    "print('O valor da correlação de Pearson foi igual %.3f' %corr, \", indicando assim, que a natureza dessa correlação é negativa e de baixa intensidade.\")"
   ]
  },
  {
   "cell_type": "markdown",
   "metadata": {},
   "source": [
    "## Exportando DataFrames"
   ]
  },
  {
   "cell_type": "code",
   "execution_count": 18,
   "metadata": {},
   "outputs": [
    {
     "name": "stdout",
     "output_type": "stream",
     "text": [
      "Stored 'df' (DataFrame)\n",
      "Stored 'ages' (list)\n",
      "Stored 'cases' (list)\n"
     ]
    }
   ],
   "source": [
    "%store df\n",
    "%store ages\n",
    "%store cases"
   ]
  },
  {
   "cell_type": "code",
   "execution_count": null,
   "metadata": {},
   "outputs": [],
   "source": []
  }
 ],
 "metadata": {
  "kernelspec": {
   "display_name": "Python 3",
   "language": "python",
   "name": "python3"
  },
  "language_info": {
   "codemirror_mode": {
    "name": "ipython",
    "version": 3
   },
   "file_extension": ".py",
   "mimetype": "text/x-python",
   "name": "python",
   "nbconvert_exporter": "python",
   "pygments_lexer": "ipython3",
   "version": "3.7.3"
  }
 },
 "nbformat": 4,
 "nbformat_minor": 2
}
